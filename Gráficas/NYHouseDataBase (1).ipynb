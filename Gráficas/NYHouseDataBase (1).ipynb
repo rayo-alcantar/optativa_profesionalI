{
  "nbformat": 4,
  "nbformat_minor": 0,
  "metadata": {
    "colab": {
      "provenance": [],
      "include_colab_link": true
    },
    "kernelspec": {
      "name": "python3",
      "display_name": "Python 3"
    },
    "language_info": {
      "name": "python"
    }
  },
  "cells": [
    {
      "cell_type": "markdown",
      "metadata": {
        "id": "view-in-github",
        "colab_type": "text"
      },
      "source": [
        "<a href=\"https://colab.research.google.com/github/rayo-alcantar/optativa_profesionalI/blob/main/Gr%C3%A1ficas/NYHouseDataBase%20(1).ipynb\" target=\"_parent\"><img src=\"https://colab.research.google.com/assets/colab-badge.svg\" alt=\"Open In Colab\"/></a>"
      ]
    },
    {
      "cell_type": "markdown",
      "source": [
        "\n",
        "Esta sección importa las bibliotecas necesarias para el análisis de datos y la creación de modelos:\n",
        "- Pandas y NumPy para manipulación de datos\n",
        "- Matplotlib y Seaborn para visualización\n",
        "- Scikit-learn para modelado y evaluación de machine learning"
      ],
      "metadata": {
        "id": "5LCQ4ttB9YHF"
      }
    },
    {
      "cell_type": "code",
      "source": [
        "import pandas as pd\n",
        "import numpy as np\n",
        "import statsmodels.api as sm\n",
        "from sklearn.model_selection import train_test_split\n",
        "from sklearn.linear_model import LinearRegression\n",
        "from sklearn.ensemble import RandomForestRegressor\n",
        "from sklearn.preprocessing import StandardScaler\n",
        "from sklearn.metrics import mean_absolute_error\n",
        "from sklearn.metrics import mean_squared_error\n",
        "from sklearn.metrics import r2_score\n",
        "from sklearn.preprocessing import OneHotEncoder\n",
        "import matplotlib.pyplot as plt\n",
        "import seaborn as sns\n",
        "\n"
      ],
      "metadata": {
        "id": "rv2Wfbk303Db"
      },
      "execution_count": null,
      "outputs": []
    },
    {
      "cell_type": "markdown",
      "source": [
        "Aquí se carga el conjunto de datos de casas de Nueva York y se realiza una exploración inicial:\n",
        "1. Se muestra las primeras filas del DataFrame\n",
        "2. Se obtiene información sobre las columnas y tipos de datos\n",
        "3. Se generan estadísticas descriptivas de las variables numéricas"
      ],
      "metadata": {
        "id": "5gdlWSh09jtC"
      }
    },
    {
      "cell_type": "code",
      "source": [
        "#Cargamos la bd\n",
        "data = pd.read_csv('https://raw.githubusercontent.com/lizsolano/Optativa_profesionalizante_I/refs/heads/main/NY-House-Dataset.csv',sep = ',')#\n",
        "#data = pd.read_csv(\"C:/Users/Lizeth Solano Romo/OneDrive - Universidad Autónoma de Aguascalientes/2024/MATERIAS/agosto-diciembre/LITC/7o/Ejercicios Phyton/NY-House-Dataset.csv\")\n"
      ],
      "metadata": {
        "id": "2_EmtFWa1IJF"
      },
      "execution_count": null,
      "outputs": []
    },
    {
      "cell_type": "code",
      "source": [
        "data.head()"
      ],
      "metadata": {
        "colab": {
          "base_uri": "https://localhost:8080/",
          "height": 469
        },
        "id": "YP78CraF7uQ5",
        "outputId": "b90573e0-204e-4d58-81b6-993e4666a91c"
      },
      "execution_count": null,
      "outputs": [
        {
          "output_type": "execute_result",
          "data": {
            "text/plain": [
              "                                         BROKERTITLE                TYPE  \\\n",
              "0        Brokered by Douglas Elliman  -111 Fifth Ave      Condo for sale   \n",
              "1                                Brokered by Serhant      Condo for sale   \n",
              "2                             Brokered by Sowae Corp      House for sale   \n",
              "3                                Brokered by COMPASS      Condo for sale   \n",
              "4  Brokered by Sotheby's International Realty - E...  Townhouse for sale   \n",
              "\n",
              "       PRICE  BEDS       BATH  PROPERTYSQFT  \\\n",
              "0     315000     2   2.000000        1400.0   \n",
              "1  195000000     7  10.000000       17545.0   \n",
              "2     260000     4   2.000000        2015.0   \n",
              "3      69000     3   1.000000         445.0   \n",
              "4   55000000     7   2.373861       14175.0   \n",
              "\n",
              "                                             ADDRESS                    STATE  \\\n",
              "0                               2 E 55th St Unit 803       New York, NY 10022   \n",
              "1  Central Park Tower Penthouse-217 W 57th New Yo...       New York, NY 10019   \n",
              "2                                   620 Sinclair Ave  Staten Island, NY 10312   \n",
              "3                            2 E 55th St Unit 908W33      Manhattan, NY 10022   \n",
              "4                                        5 E 64th St       New York, NY 10065   \n",
              "\n",
              "                                        MAIN_ADDRESS  \\\n",
              "0             2 E 55th St Unit 803New York, NY 10022   \n",
              "1  Central Park Tower Penthouse-217 W 57th New Yo...   \n",
              "2            620 Sinclair AveStaten Island, NY 10312   \n",
              "3         2 E 55th St Unit 908W33Manhattan, NY 10022   \n",
              "4                      5 E 64th StNew York, NY 10065   \n",
              "\n",
              "  ADMINISTRATIVE_AREA_LEVEL_2  LOCALITY      SUBLOCALITY       STREET_NAME  \\\n",
              "0             New York County  New York        Manhattan  East 55th Street   \n",
              "1               United States  New York  New York County          New York   \n",
              "2               United States  New York  Richmond County     Staten Island   \n",
              "3               United States  New York  New York County          New York   \n",
              "4               United States  New York  New York County          New York   \n",
              "\n",
              "          LONG_NAME                                  FORMATTED_ADDRESS  \\\n",
              "0   Regis Residence  Regis Residence, 2 E 55th St #803, New York, N...   \n",
              "1  West 57th Street             217 W 57th St, New York, NY 10019, USA   \n",
              "2   Sinclair Avenue     620 Sinclair Ave, Staten Island, NY 10312, USA   \n",
              "3  East 55th Street               2 E 55th St, New York, NY 10022, USA   \n",
              "4  East 64th Street               5 E 64th St, New York, NY 10065, USA   \n",
              "\n",
              "    LATITUDE  LONGITUDE  \n",
              "0  40.761255 -73.974483  \n",
              "1  40.766393 -73.980991  \n",
              "2  40.541805 -74.196109  \n",
              "3  40.761398 -73.974613  \n",
              "4  40.767224 -73.969856  "
            ],
            "text/html": [
              "\n",
              "  <div id=\"df-724b5ceb-0090-4785-adf3-00b64db669e5\" class=\"colab-df-container\">\n",
              "    <div>\n",
              "<style scoped>\n",
              "    .dataframe tbody tr th:only-of-type {\n",
              "        vertical-align: middle;\n",
              "    }\n",
              "\n",
              "    .dataframe tbody tr th {\n",
              "        vertical-align: top;\n",
              "    }\n",
              "\n",
              "    .dataframe thead th {\n",
              "        text-align: right;\n",
              "    }\n",
              "</style>\n",
              "<table border=\"1\" class=\"dataframe\">\n",
              "  <thead>\n",
              "    <tr style=\"text-align: right;\">\n",
              "      <th></th>\n",
              "      <th>BROKERTITLE</th>\n",
              "      <th>TYPE</th>\n",
              "      <th>PRICE</th>\n",
              "      <th>BEDS</th>\n",
              "      <th>BATH</th>\n",
              "      <th>PROPERTYSQFT</th>\n",
              "      <th>ADDRESS</th>\n",
              "      <th>STATE</th>\n",
              "      <th>MAIN_ADDRESS</th>\n",
              "      <th>ADMINISTRATIVE_AREA_LEVEL_2</th>\n",
              "      <th>LOCALITY</th>\n",
              "      <th>SUBLOCALITY</th>\n",
              "      <th>STREET_NAME</th>\n",
              "      <th>LONG_NAME</th>\n",
              "      <th>FORMATTED_ADDRESS</th>\n",
              "      <th>LATITUDE</th>\n",
              "      <th>LONGITUDE</th>\n",
              "    </tr>\n",
              "  </thead>\n",
              "  <tbody>\n",
              "    <tr>\n",
              "      <th>0</th>\n",
              "      <td>Brokered by Douglas Elliman  -111 Fifth Ave</td>\n",
              "      <td>Condo for sale</td>\n",
              "      <td>315000</td>\n",
              "      <td>2</td>\n",
              "      <td>2.000000</td>\n",
              "      <td>1400.0</td>\n",
              "      <td>2 E 55th St Unit 803</td>\n",
              "      <td>New York, NY 10022</td>\n",
              "      <td>2 E 55th St Unit 803New York, NY 10022</td>\n",
              "      <td>New York County</td>\n",
              "      <td>New York</td>\n",
              "      <td>Manhattan</td>\n",
              "      <td>East 55th Street</td>\n",
              "      <td>Regis Residence</td>\n",
              "      <td>Regis Residence, 2 E 55th St #803, New York, N...</td>\n",
              "      <td>40.761255</td>\n",
              "      <td>-73.974483</td>\n",
              "    </tr>\n",
              "    <tr>\n",
              "      <th>1</th>\n",
              "      <td>Brokered by Serhant</td>\n",
              "      <td>Condo for sale</td>\n",
              "      <td>195000000</td>\n",
              "      <td>7</td>\n",
              "      <td>10.000000</td>\n",
              "      <td>17545.0</td>\n",
              "      <td>Central Park Tower Penthouse-217 W 57th New Yo...</td>\n",
              "      <td>New York, NY 10019</td>\n",
              "      <td>Central Park Tower Penthouse-217 W 57th New Yo...</td>\n",
              "      <td>United States</td>\n",
              "      <td>New York</td>\n",
              "      <td>New York County</td>\n",
              "      <td>New York</td>\n",
              "      <td>West 57th Street</td>\n",
              "      <td>217 W 57th St, New York, NY 10019, USA</td>\n",
              "      <td>40.766393</td>\n",
              "      <td>-73.980991</td>\n",
              "    </tr>\n",
              "    <tr>\n",
              "      <th>2</th>\n",
              "      <td>Brokered by Sowae Corp</td>\n",
              "      <td>House for sale</td>\n",
              "      <td>260000</td>\n",
              "      <td>4</td>\n",
              "      <td>2.000000</td>\n",
              "      <td>2015.0</td>\n",
              "      <td>620 Sinclair Ave</td>\n",
              "      <td>Staten Island, NY 10312</td>\n",
              "      <td>620 Sinclair AveStaten Island, NY 10312</td>\n",
              "      <td>United States</td>\n",
              "      <td>New York</td>\n",
              "      <td>Richmond County</td>\n",
              "      <td>Staten Island</td>\n",
              "      <td>Sinclair Avenue</td>\n",
              "      <td>620 Sinclair Ave, Staten Island, NY 10312, USA</td>\n",
              "      <td>40.541805</td>\n",
              "      <td>-74.196109</td>\n",
              "    </tr>\n",
              "    <tr>\n",
              "      <th>3</th>\n",
              "      <td>Brokered by COMPASS</td>\n",
              "      <td>Condo for sale</td>\n",
              "      <td>69000</td>\n",
              "      <td>3</td>\n",
              "      <td>1.000000</td>\n",
              "      <td>445.0</td>\n",
              "      <td>2 E 55th St Unit 908W33</td>\n",
              "      <td>Manhattan, NY 10022</td>\n",
              "      <td>2 E 55th St Unit 908W33Manhattan, NY 10022</td>\n",
              "      <td>United States</td>\n",
              "      <td>New York</td>\n",
              "      <td>New York County</td>\n",
              "      <td>New York</td>\n",
              "      <td>East 55th Street</td>\n",
              "      <td>2 E 55th St, New York, NY 10022, USA</td>\n",
              "      <td>40.761398</td>\n",
              "      <td>-73.974613</td>\n",
              "    </tr>\n",
              "    <tr>\n",
              "      <th>4</th>\n",
              "      <td>Brokered by Sotheby's International Realty - E...</td>\n",
              "      <td>Townhouse for sale</td>\n",
              "      <td>55000000</td>\n",
              "      <td>7</td>\n",
              "      <td>2.373861</td>\n",
              "      <td>14175.0</td>\n",
              "      <td>5 E 64th St</td>\n",
              "      <td>New York, NY 10065</td>\n",
              "      <td>5 E 64th StNew York, NY 10065</td>\n",
              "      <td>United States</td>\n",
              "      <td>New York</td>\n",
              "      <td>New York County</td>\n",
              "      <td>New York</td>\n",
              "      <td>East 64th Street</td>\n",
              "      <td>5 E 64th St, New York, NY 10065, USA</td>\n",
              "      <td>40.767224</td>\n",
              "      <td>-73.969856</td>\n",
              "    </tr>\n",
              "  </tbody>\n",
              "</table>\n",
              "</div>\n",
              "    <div class=\"colab-df-buttons\">\n",
              "\n",
              "  <div class=\"colab-df-container\">\n",
              "    <button class=\"colab-df-convert\" onclick=\"convertToInteractive('df-724b5ceb-0090-4785-adf3-00b64db669e5')\"\n",
              "            title=\"Convert this dataframe to an interactive table.\"\n",
              "            style=\"display:none;\">\n",
              "\n",
              "  <svg xmlns=\"http://www.w3.org/2000/svg\" height=\"24px\" viewBox=\"0 -960 960 960\">\n",
              "    <path d=\"M120-120v-720h720v720H120Zm60-500h600v-160H180v160Zm220 220h160v-160H400v160Zm0 220h160v-160H400v160ZM180-400h160v-160H180v160Zm440 0h160v-160H620v160ZM180-180h160v-160H180v160Zm440 0h160v-160H620v160Z\"/>\n",
              "  </svg>\n",
              "    </button>\n",
              "\n",
              "  <style>\n",
              "    .colab-df-container {\n",
              "      display:flex;\n",
              "      gap: 12px;\n",
              "    }\n",
              "\n",
              "    .colab-df-convert {\n",
              "      background-color: #E8F0FE;\n",
              "      border: none;\n",
              "      border-radius: 50%;\n",
              "      cursor: pointer;\n",
              "      display: none;\n",
              "      fill: #1967D2;\n",
              "      height: 32px;\n",
              "      padding: 0 0 0 0;\n",
              "      width: 32px;\n",
              "    }\n",
              "\n",
              "    .colab-df-convert:hover {\n",
              "      background-color: #E2EBFA;\n",
              "      box-shadow: 0px 1px 2px rgba(60, 64, 67, 0.3), 0px 1px 3px 1px rgba(60, 64, 67, 0.15);\n",
              "      fill: #174EA6;\n",
              "    }\n",
              "\n",
              "    .colab-df-buttons div {\n",
              "      margin-bottom: 4px;\n",
              "    }\n",
              "\n",
              "    [theme=dark] .colab-df-convert {\n",
              "      background-color: #3B4455;\n",
              "      fill: #D2E3FC;\n",
              "    }\n",
              "\n",
              "    [theme=dark] .colab-df-convert:hover {\n",
              "      background-color: #434B5C;\n",
              "      box-shadow: 0px 1px 3px 1px rgba(0, 0, 0, 0.15);\n",
              "      filter: drop-shadow(0px 1px 2px rgba(0, 0, 0, 0.3));\n",
              "      fill: #FFFFFF;\n",
              "    }\n",
              "  </style>\n",
              "\n",
              "    <script>\n",
              "      const buttonEl =\n",
              "        document.querySelector('#df-724b5ceb-0090-4785-adf3-00b64db669e5 button.colab-df-convert');\n",
              "      buttonEl.style.display =\n",
              "        google.colab.kernel.accessAllowed ? 'block' : 'none';\n",
              "\n",
              "      async function convertToInteractive(key) {\n",
              "        const element = document.querySelector('#df-724b5ceb-0090-4785-adf3-00b64db669e5');\n",
              "        const dataTable =\n",
              "          await google.colab.kernel.invokeFunction('convertToInteractive',\n",
              "                                                    [key], {});\n",
              "        if (!dataTable) return;\n",
              "\n",
              "        const docLinkHtml = 'Like what you see? Visit the ' +\n",
              "          '<a target=\"_blank\" href=https://colab.research.google.com/notebooks/data_table.ipynb>data table notebook</a>'\n",
              "          + ' to learn more about interactive tables.';\n",
              "        element.innerHTML = '';\n",
              "        dataTable['output_type'] = 'display_data';\n",
              "        await google.colab.output.renderOutput(dataTable, element);\n",
              "        const docLink = document.createElement('div');\n",
              "        docLink.innerHTML = docLinkHtml;\n",
              "        element.appendChild(docLink);\n",
              "      }\n",
              "    </script>\n",
              "  </div>\n",
              "\n",
              "\n",
              "<div id=\"df-dbce1c50-faad-4e83-b3f6-c7daa565fedc\">\n",
              "  <button class=\"colab-df-quickchart\" onclick=\"quickchart('df-dbce1c50-faad-4e83-b3f6-c7daa565fedc')\"\n",
              "            title=\"Suggest charts\"\n",
              "            style=\"display:none;\">\n",
              "\n",
              "<svg xmlns=\"http://www.w3.org/2000/svg\" height=\"24px\"viewBox=\"0 0 24 24\"\n",
              "     width=\"24px\">\n",
              "    <g>\n",
              "        <path d=\"M19 3H5c-1.1 0-2 .9-2 2v14c0 1.1.9 2 2 2h14c1.1 0 2-.9 2-2V5c0-1.1-.9-2-2-2zM9 17H7v-7h2v7zm4 0h-2V7h2v10zm4 0h-2v-4h2v4z\"/>\n",
              "    </g>\n",
              "</svg>\n",
              "  </button>\n",
              "\n",
              "<style>\n",
              "  .colab-df-quickchart {\n",
              "      --bg-color: #E8F0FE;\n",
              "      --fill-color: #1967D2;\n",
              "      --hover-bg-color: #E2EBFA;\n",
              "      --hover-fill-color: #174EA6;\n",
              "      --disabled-fill-color: #AAA;\n",
              "      --disabled-bg-color: #DDD;\n",
              "  }\n",
              "\n",
              "  [theme=dark] .colab-df-quickchart {\n",
              "      --bg-color: #3B4455;\n",
              "      --fill-color: #D2E3FC;\n",
              "      --hover-bg-color: #434B5C;\n",
              "      --hover-fill-color: #FFFFFF;\n",
              "      --disabled-bg-color: #3B4455;\n",
              "      --disabled-fill-color: #666;\n",
              "  }\n",
              "\n",
              "  .colab-df-quickchart {\n",
              "    background-color: var(--bg-color);\n",
              "    border: none;\n",
              "    border-radius: 50%;\n",
              "    cursor: pointer;\n",
              "    display: none;\n",
              "    fill: var(--fill-color);\n",
              "    height: 32px;\n",
              "    padding: 0;\n",
              "    width: 32px;\n",
              "  }\n",
              "\n",
              "  .colab-df-quickchart:hover {\n",
              "    background-color: var(--hover-bg-color);\n",
              "    box-shadow: 0 1px 2px rgba(60, 64, 67, 0.3), 0 1px 3px 1px rgba(60, 64, 67, 0.15);\n",
              "    fill: var(--button-hover-fill-color);\n",
              "  }\n",
              "\n",
              "  .colab-df-quickchart-complete:disabled,\n",
              "  .colab-df-quickchart-complete:disabled:hover {\n",
              "    background-color: var(--disabled-bg-color);\n",
              "    fill: var(--disabled-fill-color);\n",
              "    box-shadow: none;\n",
              "  }\n",
              "\n",
              "  .colab-df-spinner {\n",
              "    border: 2px solid var(--fill-color);\n",
              "    border-color: transparent;\n",
              "    border-bottom-color: var(--fill-color);\n",
              "    animation:\n",
              "      spin 1s steps(1) infinite;\n",
              "  }\n",
              "\n",
              "  @keyframes spin {\n",
              "    0% {\n",
              "      border-color: transparent;\n",
              "      border-bottom-color: var(--fill-color);\n",
              "      border-left-color: var(--fill-color);\n",
              "    }\n",
              "    20% {\n",
              "      border-color: transparent;\n",
              "      border-left-color: var(--fill-color);\n",
              "      border-top-color: var(--fill-color);\n",
              "    }\n",
              "    30% {\n",
              "      border-color: transparent;\n",
              "      border-left-color: var(--fill-color);\n",
              "      border-top-color: var(--fill-color);\n",
              "      border-right-color: var(--fill-color);\n",
              "    }\n",
              "    40% {\n",
              "      border-color: transparent;\n",
              "      border-right-color: var(--fill-color);\n",
              "      border-top-color: var(--fill-color);\n",
              "    }\n",
              "    60% {\n",
              "      border-color: transparent;\n",
              "      border-right-color: var(--fill-color);\n",
              "    }\n",
              "    80% {\n",
              "      border-color: transparent;\n",
              "      border-right-color: var(--fill-color);\n",
              "      border-bottom-color: var(--fill-color);\n",
              "    }\n",
              "    90% {\n",
              "      border-color: transparent;\n",
              "      border-bottom-color: var(--fill-color);\n",
              "    }\n",
              "  }\n",
              "</style>\n",
              "\n",
              "  <script>\n",
              "    async function quickchart(key) {\n",
              "      const quickchartButtonEl =\n",
              "        document.querySelector('#' + key + ' button');\n",
              "      quickchartButtonEl.disabled = true;  // To prevent multiple clicks.\n",
              "      quickchartButtonEl.classList.add('colab-df-spinner');\n",
              "      try {\n",
              "        const charts = await google.colab.kernel.invokeFunction(\n",
              "            'suggestCharts', [key], {});\n",
              "      } catch (error) {\n",
              "        console.error('Error during call to suggestCharts:', error);\n",
              "      }\n",
              "      quickchartButtonEl.classList.remove('colab-df-spinner');\n",
              "      quickchartButtonEl.classList.add('colab-df-quickchart-complete');\n",
              "    }\n",
              "    (() => {\n",
              "      let quickchartButtonEl =\n",
              "        document.querySelector('#df-dbce1c50-faad-4e83-b3f6-c7daa565fedc button');\n",
              "      quickchartButtonEl.style.display =\n",
              "        google.colab.kernel.accessAllowed ? 'block' : 'none';\n",
              "    })();\n",
              "  </script>\n",
              "</div>\n",
              "\n",
              "    </div>\n",
              "  </div>\n"
            ],
            "application/vnd.google.colaboratory.intrinsic+json": {
              "type": "dataframe",
              "variable_name": "data",
              "summary": "{\n  \"name\": \"data\",\n  \"rows\": 4801,\n  \"fields\": [\n    {\n      \"column\": \"BROKERTITLE\",\n      \"properties\": {\n        \"dtype\": \"category\",\n        \"num_unique_values\": 1036,\n        \"samples\": [\n          \"Brokered by LINCOLN V WALTERS II REALTY CORP\",\n          \"Brokered by East Coast REALTORS Inc\",\n          \"Brokered by Welhome Realty Inc\"\n        ],\n        \"semantic_type\": \"\",\n        \"description\": \"\"\n      }\n    },\n    {\n      \"column\": \"TYPE\",\n      \"properties\": {\n        \"dtype\": \"category\",\n        \"num_unique_values\": 13,\n        \"samples\": [\n          \"Mobile house for sale\",\n          \"Pending\",\n          \"Condo for sale\"\n        ],\n        \"semantic_type\": \"\",\n        \"description\": \"\"\n      }\n    },\n    {\n      \"column\": \"PRICE\",\n      \"properties\": {\n        \"dtype\": \"number\",\n        \"std\": 31355246,\n        \"min\": 2494,\n        \"max\": 2147483647,\n        \"num_unique_values\": 1274,\n        \"samples\": [\n          49500,\n          755000,\n          699998\n        ],\n        \"semantic_type\": \"\",\n        \"description\": \"\"\n      }\n    },\n    {\n      \"column\": \"BEDS\",\n      \"properties\": {\n        \"dtype\": \"number\",\n        \"std\": 2,\n        \"min\": 1,\n        \"max\": 50,\n        \"num_unique_values\": 27,\n        \"samples\": [\n          12,\n          14,\n          10\n        ],\n        \"semantic_type\": \"\",\n        \"description\": \"\"\n      }\n    },\n    {\n      \"column\": \"BATH\",\n      \"properties\": {\n        \"dtype\": \"number\",\n        \"std\": 1.946961630597847,\n        \"min\": 0.0,\n        \"max\": 50.0,\n        \"num_unique_values\": 22,\n        \"samples\": [\n          2.0,\n          13.0,\n          8.0\n        ],\n        \"semantic_type\": \"\",\n        \"description\": \"\"\n      }\n    },\n    {\n      \"column\": \"PROPERTYSQFT\",\n      \"properties\": {\n        \"dtype\": \"number\",\n        \"std\": 2377.1408935597533,\n        \"min\": 230.0,\n        \"max\": 65535.0,\n        \"num_unique_values\": 1445,\n        \"samples\": [\n          2472.0,\n          1445.0,\n          1868.0\n        ],\n        \"semantic_type\": \"\",\n        \"description\": \"\"\n      }\n    },\n    {\n      \"column\": \"ADDRESS\",\n      \"properties\": {\n        \"dtype\": \"string\",\n        \"num_unique_values\": 4582,\n        \"samples\": [\n          \"3671 Hudson Manor Ter Apt 14J\",\n          \"150 W End Ave Apt 5H\",\n          \"220 E 65th St Apt 20B\"\n        ],\n        \"semantic_type\": \"\",\n        \"description\": \"\"\n      }\n    },\n    {\n      \"column\": \"STATE\",\n      \"properties\": {\n        \"dtype\": \"category\",\n        \"num_unique_values\": 308,\n        \"samples\": [\n          \"Jackson Heights, NY 11370\",\n          \"Brooklyn, NY 11230\",\n          \"Manhattan, NY 10010\"\n        ],\n        \"semantic_type\": \"\",\n        \"description\": \"\"\n      }\n    },\n    {\n      \"column\": \"MAIN_ADDRESS\",\n      \"properties\": {\n        \"dtype\": \"string\",\n        \"num_unique_values\": 4583,\n        \"samples\": [\n          \"111 Sunset BlvdBronx, NY 10473\",\n          \"21-16 35th St Unit 1BAstoria, NY 11105\",\n          \"104-02 223rd StQueens Village, NY 11429\"\n        ],\n        \"semantic_type\": \"\",\n        \"description\": \"\"\n      }\n    },\n    {\n      \"column\": \"ADMINISTRATIVE_AREA_LEVEL_2\",\n      \"properties\": {\n        \"dtype\": \"category\",\n        \"num_unique_values\": 29,\n        \"samples\": [\n          \"11237\",\n          \"Queens County\",\n          \"11417\"\n        ],\n        \"semantic_type\": \"\",\n        \"description\": \"\"\n      }\n    },\n    {\n      \"column\": \"LOCALITY\",\n      \"properties\": {\n        \"dtype\": \"category\",\n        \"num_unique_values\": 11,\n        \"samples\": [\n          \"Queens County\",\n          \"New York\",\n          \"Queens\"\n        ],\n        \"semantic_type\": \"\",\n        \"description\": \"\"\n      }\n    },\n    {\n      \"column\": \"SUBLOCALITY\",\n      \"properties\": {\n        \"dtype\": \"category\",\n        \"num_unique_values\": 21,\n        \"samples\": [\n          \"Manhattan\",\n          \"Fort Hamilton\",\n          \"Riverdale\"\n        ],\n        \"semantic_type\": \"\",\n        \"description\": \"\"\n      }\n    },\n    {\n      \"column\": \"STREET_NAME\",\n      \"properties\": {\n        \"dtype\": \"category\",\n        \"num_unique_values\": 174,\n        \"samples\": [\n          \"John Street\",\n          \"Shore Road\",\n          \"Mill Basin\"\n        ],\n        \"semantic_type\": \"\",\n        \"description\": \"\"\n      }\n    },\n    {\n      \"column\": \"LONG_NAME\",\n      \"properties\": {\n        \"dtype\": \"string\",\n        \"num_unique_values\": 2730,\n        \"samples\": [\n          \"86-10\",\n          \"342\",\n          \"Bianca Court\"\n        ],\n        \"semantic_type\": \"\",\n        \"description\": \"\"\n      }\n    },\n    {\n      \"column\": \"FORMATTED_ADDRESS\",\n      \"properties\": {\n        \"dtype\": \"string\",\n        \"num_unique_values\": 4550,\n        \"samples\": [\n          \"4410 Cayuga Ave Bsmt B3, Bronx, NY 10471, USA\",\n          \"270-10 Grand Central Pkwy #25k, Little Neck, NY 11362, USA\",\n          \"165 Cromwell Ave #2b, Staten Island, NY 10304, USA\"\n        ],\n        \"semantic_type\": \"\",\n        \"description\": \"\"\n      }\n    },\n    {\n      \"column\": \"LATITUDE\",\n      \"properties\": {\n        \"dtype\": \"number\",\n        \"std\": 0.08767556707715027,\n        \"min\": 40.4995462,\n        \"max\": 40.9127295,\n        \"num_unique_values\": 4196,\n        \"samples\": [\n          40.782238,\n          40.6180243,\n          40.7121557\n        ],\n        \"semantic_type\": \"\",\n        \"description\": \"\"\n      }\n    },\n    {\n      \"column\": \"LONGITUDE\",\n      \"properties\": {\n        \"dtype\": \"number\",\n        \"std\": 0.10108248150173928,\n        \"min\": -74.2530332,\n        \"max\": -73.70245,\n        \"num_unique_values\": 4118,\n        \"samples\": [\n          -73.9071739,\n          -74.017865,\n          -74.0802854\n        ],\n        \"semantic_type\": \"\",\n        \"description\": \"\"\n      }\n    }\n  ]\n}"
            }
          },
          "metadata": {},
          "execution_count": 10
        }
      ]
    },
    {
      "cell_type": "code",
      "source": [
        "data.info()"
      ],
      "metadata": {
        "colab": {
          "base_uri": "https://localhost:8080/"
        },
        "id": "lkCWni4v_QpB",
        "outputId": "0a7a9517-f56b-4b55-e23a-89eea80b74df"
      },
      "execution_count": null,
      "outputs": [
        {
          "output_type": "stream",
          "name": "stdout",
          "text": [
            "<class 'pandas.core.frame.DataFrame'>\n",
            "RangeIndex: 4801 entries, 0 to 4800\n",
            "Data columns (total 19 columns):\n",
            " #   Column                       Non-Null Count  Dtype  \n",
            "---  ------                       --------------  -----  \n",
            " 0   BROKERTITLE                  4801 non-null   object \n",
            " 1   TYPE                         4801 non-null   object \n",
            " 2   PRICE                        4801 non-null   int64  \n",
            " 3   BEDS                         4801 non-null   int64  \n",
            " 4   BATH                         4801 non-null   float64\n",
            " 5   PROPERTYSQFT                 4801 non-null   float64\n",
            " 6   ADDRESS                      4801 non-null   object \n",
            " 7   STATE                        4801 non-null   object \n",
            " 8   MAIN_ADDRESS                 4801 non-null   object \n",
            " 9   ADMINISTRATIVE_AREA_LEVEL_2  4801 non-null   object \n",
            " 10  LOCALITY                     4801 non-null   object \n",
            " 11  SUBLOCALITY                  4801 non-null   object \n",
            " 12  STREET_NAME                  4801 non-null   object \n",
            " 13  LONG_NAME                    4801 non-null   object \n",
            " 14  FORMATTED_ADDRESS            4801 non-null   object \n",
            " 15  LATITUDE                     4801 non-null   float64\n",
            " 16  LONGITUDE                    4801 non-null   float64\n",
            " 17  STATE_2                      4801 non-null   object \n",
            " 18  codigo_postal                4801 non-null   object \n",
            "dtypes: float64(4), int64(2), object(13)\n",
            "memory usage: 712.8+ KB\n"
          ]
        }
      ]
    },
    {
      "cell_type": "markdown",
      "source": [
        "# Realizamos el analisis exploratorio:\n",
        "##Conteo de categorias"
      ],
      "metadata": {
        "id": "DxXT6VGX7-8h"
      }
    },
    {
      "cell_type": "code",
      "source": [
        "print(data[\"BROKERTITLE\"].value_counts())\n",
        "print(data[\"TYPE\"].value_counts())\n",
        "print(data[\"STATE\"].value_counts())\n",
        "print(data[\"LOCALITY\"].value_counts())\n",
        "print(data[\"PROPERTYSQFT\"].value_counts())\n",
        "print(data[\"SUBLOCALITY\"].value_counts())"
      ],
      "metadata": {
        "colab": {
          "base_uri": "https://localhost:8080/"
        },
        "id": "78IpZz46700R",
        "outputId": "162bd880-c53c-42da-d58b-235d06203878"
      },
      "execution_count": null,
      "outputs": [
        {
          "output_type": "stream",
          "name": "stdout",
          "text": [
            "BROKERTITLE\n",
            "No se especifica                                         2000\n",
            "Brokered by COMPASS                                       456\n",
            "Brokered by Douglas Elliman - 575 Madison Ave             110\n",
            "Brokered by Brown Harris Stevens                           93\n",
            "Brokered by Corcoran East Side                             91\n",
            "                                                         ... \n",
            "Brokered by Brown Harris Stevens- 3531 Johnson Avenue      10\n",
            "Brokered by Bond New York- Columbus Circle                 10\n",
            "Brokered by Douglas Elliman - Franklin Square              10\n",
            "Brokered by R New York                                     10\n",
            "Brokered by Coldwell Banker Reliable                       10\n",
            "Name: count, Length: 97, dtype: int64\n",
            "TYPE\n",
            "Co-op for sale                1450\n",
            "House for sale                1012\n",
            "Condo for sale                 891\n",
            "Multi-family home for sale     727\n",
            "Townhouse for sale             299\n",
            "Pending                        243\n",
            "Contingent                      88\n",
            "Land for sale                   49\n",
            "For sale                        20\n",
            "Foreclosure                     14\n",
            "No se especifica                 8\n",
            "Name: count, dtype: int64\n",
            "STATE\n",
            "Brooklyn, NY 11235            102\n",
            "Brooklyn, NY 11209             94\n",
            "Forest Hills, NY 11375         91\n",
            "Brooklyn, NY 11234             90\n",
            "Staten Island, NY 10314        86\n",
            "                             ... \n",
            "Queens, NY 11427                1\n",
            "Queens, NY 11429                1\n",
            "Long Island City, NY 11109      1\n",
            "Brooklyn, NY 11694              1\n",
            "Ozone Park, NY 11416            1\n",
            "Name: count, Length: 308, dtype: int64\n",
            "LOCALITY\n",
            "New York            2505\n",
            "New York County      979\n",
            "Queens County        557\n",
            "Kings County         464\n",
            "Bronx County         182\n",
            "Richmond County       59\n",
            "United States         37\n",
            "No se especifica      18\n",
            "Name: count, dtype: int64\n",
            "PROPERTYSQFT\n",
            "2184.207862     1621\n",
            "800.000000        57\n",
            "900.000000        53\n",
            "750.000000        53\n",
            "1200.000000       50\n",
            "                ... \n",
            "1215.000000        1\n",
            "4080.000000        1\n",
            "21000.000000       1\n",
            "2652.000000        1\n",
            "655.000000         1\n",
            "Name: count, Length: 1445, dtype: int64\n",
            "SUBLOCALITY\n",
            "New York            1016\n",
            "Kings County         727\n",
            "Queens County        684\n",
            "Queens               555\n",
            "Richmond County      480\n",
            "Brooklyn             464\n",
            "Bronx County         307\n",
            "New York County      286\n",
            "The Bronx            184\n",
            "Staten Island         59\n",
            "Manhattan             21\n",
            "No se especifica      18\n",
            "Name: count, dtype: int64\n"
          ]
        }
      ]
    },
    {
      "cell_type": "markdown",
      "source": [
        "##descripcion de variables numericas:"
      ],
      "metadata": {
        "id": "_2c_pDNe8EpJ"
      }
    },
    {
      "cell_type": "code",
      "source": [
        "print(data[[\"PRICE\",\"BEDS\",\"BATH\",\"PROPERTYSQFT\"]].describe())"
      ],
      "metadata": {
        "colab": {
          "base_uri": "https://localhost:8080/"
        },
        "id": "Mf_9Kol88FOp",
        "outputId": "aeb2718c-350e-455a-a21f-48d1ada2d915"
      },
      "execution_count": null,
      "outputs": [
        {
          "output_type": "stream",
          "name": "stdout",
          "text": [
            "              PRICE         BEDS         BATH  PROPERTYSQFT\n",
            "count  4.801000e+03  4801.000000  4801.000000   4801.000000\n",
            "mean   2.356940e+06     3.356801     2.373861   2184.207862\n",
            "std    3.135525e+07     2.602315     1.946962   2377.140894\n",
            "min    2.494000e+03     1.000000     0.000000    230.000000\n",
            "25%    4.990000e+05     2.000000     1.000000   1200.000000\n",
            "50%    8.250000e+05     3.000000     2.000000   2184.207862\n",
            "75%    1.495000e+06     4.000000     3.000000   2184.207862\n",
            "max    2.147484e+09    50.000000    50.000000  65535.000000\n"
          ]
        }
      ]
    },
    {
      "cell_type": "markdown",
      "source": [
        "#Transformar categorias con menos de 10 registros a una nueva:\n",
        "## BROKERTITLE,TYPE,STATE,CP,STATE_2,CODIGO_POSTAL,LOCALLITY, SUBLOCALLITY"
      ],
      "metadata": {
        "id": "-MpVlxH-8LGY"
      }
    },
    {
      "cell_type": "code",
      "source": [
        "BROKERTITLE_conteo = data[\"BROKERTITLE\"].value_counts()\n",
        "BROKERTITLE_conservar = BROKERTITLE_conteo[BROKERTITLE_conteo>=10].index.to_list()\n",
        "data[\"BROKERTITLE\"]=np.where(data[\"BROKERTITLE\"].isin(BROKERTITLE_conservar),data[\"BROKERTITLE\"],\"No se especifica\")\n",
        "\n",
        "#TYPE\n",
        "TYPE_conteo = data[\"TYPE\"].value_counts()\n",
        "TYPE_conservar = TYPE_conteo[TYPE_conteo>=10].index.to_list()\n",
        "data[\"TYPE\"]=np.where(data[\"TYPE\"].isin(TYPE_conservar),data[\"TYPE\"],\"No se especifica\")\n",
        "\n",
        "#STATE Y CP\n",
        "data[\"STATE_2\"]=data[\"STATE\"].str.extract(\"^([^,]+)\")\n",
        "data[\"codigo_postal\"]=data[\"STATE\"].str.extractall(\"(\\d+)\").groupby(level=0).apply(lambda x: x.iloc[-1])\n",
        "\n",
        "#STATE_2\n",
        "STATE_2_conteo = data[\"STATE_2\"].value_counts()\n",
        "STATE_2_conservar = STATE_2_conteo[STATE_2_conteo>=10].index.to_list()\n",
        "data[\"STATE_2\"]=np.where(data[\"STATE_2\"].isin(STATE_2_conservar),data[\"STATE_2\"],\"No se especifica\")\n",
        "\n",
        "#codigo_postal\n",
        "codigo_postal_conteo = data[\"codigo_postal\"].value_counts()\n",
        "codigo_postal_conservar = codigo_postal_conteo[codigo_postal_conteo>=10].index.to_list()\n",
        "data[\"codigo_postal\"]=np.where(data[\"codigo_postal\"].isin(codigo_postal_conservar),data[\"codigo_postal\"],\"No se especifica\")\n",
        "\n",
        "#LOCALITY\n",
        "LOCALITY_conteo = data[\"LOCALITY\"].value_counts()\n",
        "LOCALITY_conservar = LOCALITY_conteo[LOCALITY_conteo>=10].index.to_list()\n",
        "data[\"LOCALITY\"]=np.where(data[\"LOCALITY\"].isin(LOCALITY_conservar),data[\"LOCALITY\"],\"No se especifica\")\n",
        "\n",
        "\n",
        "#SUBLOCALITY\n",
        "SUBLOCALITY_conteo = data[\"SUBLOCALITY\"].value_counts()\n",
        "SUBLOCALITY_conservar = SUBLOCALITY_conteo[SUBLOCALITY_conteo>=10].index.to_list()\n",
        "data[\"SUBLOCALITY\"]=np.where(data[\"SUBLOCALITY\"].isin(SUBLOCALITY_conservar),data[\"SUBLOCALITY\"],\"No se especifica\")"
      ],
      "metadata": {
        "id": "tJR_-zeF8LiA"
      },
      "execution_count": null,
      "outputs": []
    },
    {
      "cell_type": "markdown",
      "source": [
        "#TABLA DESCRIPTIVA:"
      ],
      "metadata": {
        "id": "4jwvUld28esV"
      }
    },
    {
      "cell_type": "code",
      "source": [
        "Tabla_Descriptiva_Final = data.groupby(['TYPE','STATE_2','codigo_postal','LOCALITY','SUBLOCALITY']).agg(\n",
        "  CONTEO=('TYPE','count'),\n",
        "  PROMEDIO_PRICE=('PRICE','mean'),\n",
        "  DESVIACION_PRICE=('PRICE','std'),\n",
        "  PROMEDIO_BEDS=('BEDS','mean'),\n",
        "  DESVIACION_BEDS=('BEDS','std'),\n",
        "  PROMEDIO_BATH=('BATH','mean'),\n",
        "  DESVIACION_BATH=('BATH','std'),\n",
        "  PROMEDIO_PROPERTYSQFT=('PROPERTYSQFT','mean'),\n",
        "  DESVIACION_PROPERTYSQFT=('PROPERTYSQFT','std')\n",
        ").reset_index()"
      ],
      "metadata": {
        "id": "LykbjxqY8fUp"
      },
      "execution_count": null,
      "outputs": []
    },
    {
      "cell_type": "code",
      "source": [
        "print(Tabla_Descriptiva_Final)"
      ],
      "metadata": {
        "colab": {
          "base_uri": "https://localhost:8080/"
        },
        "id": "Px-QHD63-NfZ",
        "outputId": "a00bfbaa-6aee-4477-bd57-d32e70727048"
      },
      "execution_count": null,
      "outputs": [
        {
          "output_type": "stream",
          "name": "stdout",
          "text": [
            "                    TYPE        STATE_2 codigo_postal       LOCALITY  \\\n",
            "0         Co-op for sale        Astoria         11101  Queens County   \n",
            "1         Co-op for sale        Astoria         11105  Queens County   \n",
            "2         Co-op for sale        Astoria         11106  Queens County   \n",
            "3         Co-op for sale        Bayside         11360   Kings County   \n",
            "4         Co-op for sale        Bayside         11360  Queens County   \n",
            "...                  ...            ...           ...            ...   \n",
            "1174  Townhouse for sale  Staten Island         10309       New York   \n",
            "1175  Townhouse for sale  Staten Island         10310       New York   \n",
            "1176  Townhouse for sale  Staten Island         10312       New York   \n",
            "1177  Townhouse for sale  Staten Island         10314       New York   \n",
            "1178  Townhouse for sale       Woodside         11377       New York   \n",
            "\n",
            "          SUBLOCALITY  CONTEO  PROMEDIO_PRICE  DESVIACION_PRICE  \\\n",
            "0              Queens       2   270000.000000          0.000000   \n",
            "1              Queens      11   269636.363636      67368.052855   \n",
            "2              Queens       4   468562.500000      57243.039970   \n",
            "3            Brooklyn       1   209000.000000               NaN   \n",
            "4              Queens      26   382318.230769     106656.354719   \n",
            "...               ...     ...             ...               ...   \n",
            "1174  Richmond County       3   706600.000000     128602.760468   \n",
            "1175  Richmond County       3   497666.666667       2309.401077   \n",
            "1176  Richmond County       4   435749.500000     116714.970478   \n",
            "1177  Richmond County       8   597923.250000      91081.959499   \n",
            "1178    Queens County       2   937000.000000      53740.115370   \n",
            "\n",
            "      PROMEDIO_BEDS  DESVIACION_BEDS  PROMEDIO_BATH  DESVIACION_BATH  \\\n",
            "0          2.000000         0.000000       1.000000         0.000000   \n",
            "1          1.363636         0.674200       1.000000         0.000000   \n",
            "2          1.750000         0.500000       1.000000         0.000000   \n",
            "3          1.000000              NaN       1.000000              NaN   \n",
            "4          1.961538         0.662164       1.538462         0.508391   \n",
            "...             ...              ...            ...              ...   \n",
            "1174       2.666667         0.577350       2.249241         0.215849   \n",
            "1175       3.000000         0.000000       2.000000         0.000000   \n",
            "1176       1.500000         0.577350       2.000000         0.000000   \n",
            "1177       2.750000         0.462910       2.186930         0.199837   \n",
            "1178       3.000000         0.000000       2.000000         0.000000   \n",
            "\n",
            "      PROMEDIO_PROPERTYSQFT  DESVIACION_PROPERTYSQFT  \n",
            "0                700.000000                 0.000000  \n",
            "1               2040.188965               477.656643  \n",
            "2               1504.603931               797.641526  \n",
            "3               2184.207862                      NaN  \n",
            "4               1782.627915               553.462316  \n",
            "...                     ...                      ...  \n",
            "1174            1791.666667               716.632635  \n",
            "1175            1686.666667               352.183664  \n",
            "1176            1117.000000               160.766912  \n",
            "1177            1592.875000               270.825425  \n",
            "1178            1567.000000               236.173665  \n",
            "\n",
            "[1179 rows x 14 columns]\n"
          ]
        }
      ]
    },
    {
      "cell_type": "markdown",
      "source": [
        "Elimina los datos nulos de la base de datos"
      ],
      "metadata": {
        "id": "Sqv3Xu-MBx8h"
      }
    },
    {
      "cell_type": "code",
      "source": [
        "data = data.dropna()"
      ],
      "metadata": {
        "id": "gbjGlbEtBfiZ"
      },
      "execution_count": null,
      "outputs": []
    },
    {
      "cell_type": "markdown",
      "source": [
        "\n",
        "#Modelo\n"
      ],
      "metadata": {
        "id": "Liw23YRD8nVL"
      }
    },
    {
      "cell_type": "markdown",
      "source": [
        "### Gráfico de dispersión que muestra la relación entre el tamaño y el precio de venta"
      ],
      "metadata": {
        "id": "90v-HrVHATdS"
      }
    },
    {
      "cell_type": "code",
      "source": [
        "plt.figure(figsize=(10, 6))\n",
        "sns.scatterplot(x='PROPERTYSQFT', y='PRICE', data=df)\n",
        "plt.title('Relación entre Tamaño y Precio de Venta')\n",
        "plt.xlabel('Tamaño')\n",
        "plt.ylabel('Precio')\n",
        "plt.show()"
      ],
      "metadata": {
        "colab": {
          "base_uri": "https://localhost:8080/",
          "height": 565
        },
        "id": "UymejCGW-v1q",
        "outputId": "42fb2e1e-0f00-4fd8-9700-e62f77981bf2"
      },
      "execution_count": null,
      "outputs": [
        {
          "output_type": "display_data",
          "data": {
            "text/plain": [
              "<Figure size 1000x600 with 1 Axes>"
            ],
            "image/png": "[encoded data removed]"
          },
          "metadata": {}
        }
      ]
    },
    {
      "cell_type": "markdown",
      "source": [
        "Se propone un modelo y su evaluación:\n",
        "1. Se divide el conjunto de datos en entrenamiento y prueba.\n",
        "2. Se crea y entrena un modelo de regresión lineal.\n",
        "3. Se hacen predicciones y se evalúa el rendimiento del modelo."
      ],
      "metadata": {
        "id": "cqnRk3tjB2XZ"
      }
    },
    {
      "cell_type": "markdown",
      "source": [
        "La ***regresión lineal*** es una técnica estadística fundamental utilizada para modelar la relación entre variables y hacer predicciones.\n",
        "\n",
        "Es un método estadístico que busca establecer una relación lineal entre una variable dependiente (Y) y una o más variables independientes (X). En su forma más simple, se representa mediante la ecuación:\n",
        "\n",
        "Y = β₀ + β₁X + ε\n",
        "\n",
        "Donde:\n",
        "\n",
        "β₀ es la intersección con el eje Y\n",
        "\n",
        "β₁ es la pendiente de la línea\n",
        "\n",
        "ε es el término de error\n"
      ],
      "metadata": {
        "id": "CuKGnedbSvji"
      }
    },
    {
      "cell_type": "markdown",
      "source": [
        "Sirve para:\n",
        "\n",
        "- **Predicción:** Permite hacer pronósticos sobre la variable dependiente basándose en los valores de las variables independientes.\n",
        "- **Análisis de relaciones:** Ayuda a entender cómo cambia la variable dependiente cuando se modifican las variables independientes.\n",
        "- **Identificación de tendencias:** Permite detectar patrones y tendencias en los datos.\n",
        "- **Cuantificación de impactos:** Mide el efecto que tienen las variables independientes sobre la variable dependiente."
      ],
      "metadata": {
        "id": "A9D3v8PdTbOx"
      }
    },
    {
      "cell_type": "markdown",
      "source": [
        "**En qué casos se utiliza**\n",
        "\n",
        "La regresión lineal se aplica en diversos campos y situaciones, como:\n",
        "- Economía y finanzas: Para predecir ventas, analizar el impacto de variables económicas, o estimar el valor de activos.\n",
        "- Ciencias sociales: En estudios que buscan relacionar factores socioeconómicos con diversos resultados.\n",
        "- Medicina: Para analizar la relación entre dosis de medicamentos y respuestas fisiológicas.\n",
        "- Marketing: En la predicción de comportamientos de consumo o efectividad de campañas publicitarias.\n",
        "- Ingeniería: Para modelar relaciones entre variables en sistemas físicos.\n",
        "- Ciencias ambientales: En el estudio de fenómenos climáticos o ecológicos.\n",
        "- Recursos humanos: Para analizar factores que influyen en el desempeño o satisfacción laboral."
      ],
      "metadata": {
        "id": "ff_hoEsZUT5P"
      }
    },
    {
      "cell_type": "code",
      "source": [
        "X_train, X_test, y_train, y_test = train_test_split(X, y, test_size=0.2, random_state=42)\n",
        "\n",
        "model = LinearRegression()\n",
        "model.fit(X_train, y_train)\n",
        "\n",
        "y_pred = model.predict(X_test)\n",
        "\n",
        "mse = mean_squared_error(y_test, y_pred)\n",
        "r2 = r2_score(y_test, y_pred)\n",
        "\n",
        "print(f'Error cuadrático medio: {mse}')\n",
        "print(f'R-cuadrado: {r2}')"
      ],
      "metadata": {
        "colab": {
          "base_uri": "https://localhost:8080/"
        },
        "id": "x2NolvJDBCjC",
        "outputId": "be115d2a-5b53-482b-d87a-3e93b613d3ed"
      },
      "execution_count": null,
      "outputs": [
        {
          "output_type": "stream",
          "name": "stdout",
          "text": [
            "Error cuadrático medio: 19243479524898.84\n",
            "R-cuadrado: 0.23621329447296957\n"
          ]
        }
      ]
    },
    {
      "cell_type": "markdown",
      "source": [
        "Interpretando:\n",
        "- Error cuadrático medio (MSE): 19243479524898.84\n",
        "El MSE mide el promedio de los errores al cuadrado entre los valores predichos y los valores reales. Un valor más bajo indica mejores predicciones.\n",
        "En este caso, el MSE es bastante alto, lo que sugiere que hay una discrepancia significativa entre los precios predichos y los reales. Sin embargo, es importante notar que el MSE está en la misma escala que el cuadrado de los precios de las casas, por lo que un número grande no es necesariamente inusual para datos de precios de propiedades.\n",
        "- R-cuadrado (R²): 0.23621329447296957\n",
        "El R² indica qué proporción de la varianza en la variable dependiente (precio de venta) es predecible a partir de las variables independientes (características de la casa). Varía de 0 a 1, donde 1 indica una predicción perfecta.\n",
        "Un R² de aproximadamente 0.236 significa que el modelo explica alrededor del 23.6% de la variabilidad en los precios de las casas. Esto sugiere que:\n",
        "1. El modelo tiene cierto poder predictivo, ya que explica más del 0% de la varianza.\n",
        "2. Sin embargo, hay una gran parte de la variabilidad (aproximadamente el 76.4%) que el modelo no explica.\n",
        "\n",
        "**Interpretación general:** Estos resultados indican que el modelo tiene un poder predictivo limitado. Aunque puede capturar algunas tendencias en los datos, hay muchos factores que influyen en los precios de las casas que no están siendo considerados o que no se están modelando adecuadamente con una regresión lineal simple."
      ],
      "metadata": {
        "id": "lPjizy5eCUqU"
      }
    },
    {
      "cell_type": "code",
      "source": [
        "plt.figure(figsize=(10, 6))\n",
        "plt.scatter(y_test, y_pred)\n",
        "plt.plot([y_test.min(), y_test.max()], [y_test.min(), y_test.max()], 'r--', lw=2)\n",
        "plt.xlabel('Precio real')\n",
        "plt.ylabel('Precio predicho')\n",
        "plt.title('Comparación entre precios reales y predichos')\n",
        "plt.show()"
      ],
      "metadata": {
        "colab": {
          "base_uri": "https://localhost:8080/",
          "height": 565
        },
        "id": "fgQt-rYwBIIl",
        "outputId": "673adefb-2776-4fc4-ca1b-a3f6cec02ab3"
      },
      "execution_count": null,
      "outputs": [
        {
          "output_type": "display_data",
          "data": {
            "text/plain": [
              "<Figure size 1000x600 with 1 Axes>"
            ],
            "image/png": "[encoded data removed]"
          },
          "metadata": {}
        }
      ]
    },
    {
      "cell_type": "markdown",
      "source": [
        "## Posible explicación:\n",
        "\n",
        "- Puede haber relaciones no lineales entre las variables que una regresión lineal no captura.\n",
        "- Podrían faltar variables importantes que influyen en el precio de las casas.\n",
        "- Podría haber outliers o datos ruidosos que afectan el rendimiento del modelo.\n",
        "\n",
        "## Pasos a seguir:\n",
        "1. Explorar más a fondo los datos para entender mejor las relaciones entre variables.\n",
        "2. Considerar la inclusión de más características relevantes si están disponibles.\n",
        "3. Probar técnicas de preprocesamiento como la normalización o la eliminación de outliers.\n",
        "4. Experimentar con modelos más complejos que puedan capturar relaciones no lineales."
      ],
      "metadata": {
        "id": "r3k13H7WDBq0"
      }
    },
    {
      "cell_type": "markdown",
      "source": [
        "# OTRO MODELO\n",
        "\n",
        "Seleccionar características relevantes"
      ],
      "metadata": {
        "id": "ueAaYWAZHV9C"
      }
    },
    {
      "cell_type": "markdown",
      "source": [
        "# Random Forest\n",
        "\n",
        "## Qué es\n",
        "\n",
        "**Random Forest** es un algoritmo de aprendizaje supervisado que pertenece a la familia de métodos de conjunto (ensemble). Funciona creando múltiples árboles de decisión y combinando sus resultados para obtener una predicción más precisa y estable.\n",
        "\n",
        "## Para qué sirve\n",
        "\n",
        "1. Predicción: Puede utilizarse tanto para problemas de clasificación como de regresión.\n",
        "\n",
        "2. Selección de características: Ayuda a identificar las variables más importantes en un conjunto de datos.\n",
        "\n",
        "3. Manejo de datos faltantes: Es capaz de manejar eficientemente conjuntos de datos con valores faltantes.\n",
        "\n",
        "4. Reducción del sobreajuste: Al combinar múltiples árboles, reduce el riesgo de sobreajuste común en los árboles de decisión individuales.\n",
        "\n",
        "5. Estimación de la importancia de variables: Proporciona una medida de la importancia relativa de cada característica en la predicción.\n",
        "\n",
        "## En qué casos se utiliza\n",
        "\n",
        "Random Forest se aplica en diversos campos y situaciones, como:\n",
        "\n",
        "1. Finanzas:\n",
        "   - Detección de fraudes bancarios\n",
        "   - Predicción de riesgos crediticios\n",
        "   - Análisis de mercados financieros\n",
        "\n",
        "2. Medicina y salud:\n",
        "   - Diagnóstico de enfermedades\n",
        "   - Predicción de la sensibilidad a medicamentos\n",
        "   - Análisis de imágenes médicas\n",
        "\n",
        "3. Marketing y comercio electrónico:\n",
        "   - Predicción del comportamiento de los clientes\n",
        "   - Segmentación de mercado\n",
        "   - Recomendación de productos\n",
        "\n",
        "4. Ciencias ambientales:\n",
        "   - Predicción del clima\n",
        "   - Análisis de patrones ecológicos\n",
        "   - Evaluación de riesgos ambientales\n",
        "\n",
        "5. Reconocimiento de imágenes y voz:\n",
        "   - Clasificación de imágenes\n",
        "   - Reconocimiento de patrones en señales de audio\n",
        "\n",
        "6. Recursos humanos:\n",
        "   - Predicción de la rotación de empleados\n",
        "   - Evaluación del desempeño laboral\n",
        "\n",
        "7. Industria y manufactura:\n",
        "   - Predicción de fallos en equipos\n",
        "   - Optimización de procesos de producción\n",
        "\n",
        "**Random Forest** es especialmente útil cuando se trabaja con conjuntos de datos grandes y complejos, con muchas variables y posibles interacciones entre ellas. Su capacidad para manejar tanto variables numéricas como categóricas, así como su robustez frente al ruido en los datos, lo hacen una opción popular en muchos campos de aplicación.\n",
        "\n"
      ],
      "metadata": {
        "id": "pOffPj2ukfPw"
      }
    },
    {
      "cell_type": "code",
      "source": [
        "features = ['BEDS', 'BATH', 'PROPERTYSQFT', 'LATITUDE', 'LONGITUDE','TYPE']\n",
        "X = data[features]\n",
        "y = data['PRICE']"
      ],
      "metadata": {
        "id": "o2jackfaHXXe"
      },
      "execution_count": null,
      "outputs": []
    },
    {
      "cell_type": "code",
      "source": [
        "# Codificar variables categóricas\n",
        "X = pd.get_dummies(X, columns=['TYPE'])"
      ],
      "metadata": {
        "id": "G5IL88fMHqui"
      },
      "execution_count": null,
      "outputs": []
    },
    {
      "cell_type": "code",
      "source": [
        "# Escalar las características\n",
        "scaler = StandardScaler()\n",
        "X_scaled = scaler.fit_transform(X)"
      ],
      "metadata": {
        "id": "eGyXnE2_HtzT"
      },
      "execution_count": null,
      "outputs": []
    },
    {
      "cell_type": "code",
      "source": [
        "# Dividir los datos en conjuntos de entrenamiento y prueba\n",
        "X_train, X_test, y_train, y_test = train_test_split(X_scaled, y, test_size=0.2, random_state=42)"
      ],
      "metadata": {
        "id": "Oxevfm2NHwf2"
      },
      "execution_count": null,
      "outputs": []
    },
    {
      "cell_type": "markdown",
      "source": [
        "Random Forest Regressor, que puede capturar relaciones no lineales y manejar múltiples variables."
      ],
      "metadata": {
        "id": "-zkLoPJyJeGX"
      }
    },
    {
      "cell_type": "code",
      "source": [
        "# Crear y entrenar el modelo Random Forest\n",
        "rf_model = RandomForestRegressor(n_estimators=100, random_state=42)\n",
        "rf_model.fit(X_train, y_train)"
      ],
      "metadata": {
        "colab": {
          "base_uri": "https://localhost:8080/",
          "height": 80
        },
        "id": "7uv5nLtcHzi7",
        "outputId": "922334b9-8996-4470-818d-28d4bbdfdb59"
      },
      "execution_count": null,
      "outputs": [
        {
          "output_type": "execute_result",
          "data": {
            "text/plain": [
              "RandomForestRegressor(random_state=42)"
            ],
            "text/html": [
              "<style>#sk-container-id-1 {\n",
              "  /* Definition of color scheme common for light and dark mode */\n",
              "  --sklearn-color-text: black;\n",
              "  --sklearn-color-line: gray;\n",
              "  /* Definition of color scheme for unfitted estimators */\n",
              "  --sklearn-color-unfitted-level-0: #fff5e6;\n",
              "  --sklearn-color-unfitted-level-1: #f6e4d2;\n",
              "  --sklearn-color-unfitted-level-2: #ffe0b3;\n",
              "  --sklearn-color-unfitted-level-3: chocolate;\n",
              "  /* Definition of color scheme for fitted estimators */\n",
              "  --sklearn-color-fitted-level-0: #f0f8ff;\n",
              "  --sklearn-color-fitted-level-1: #d4ebff;\n",
              "  --sklearn-color-fitted-level-2: #b3dbfd;\n",
              "  --sklearn-color-fitted-level-3: cornflowerblue;\n",
              "\n",
              "  /* Specific color for light theme */\n",
              "  --sklearn-color-text-on-default-background: var(--sg-text-color, var(--theme-code-foreground, var(--jp-content-font-color1, black)));\n",
              "  --sklearn-color-background: var(--sg-background-color, var(--theme-background, var(--jp-layout-color0, white)));\n",
              "  --sklearn-color-border-box: var(--sg-text-color, var(--theme-code-foreground, var(--jp-content-font-color1, black)));\n",
              "  --sklearn-color-icon: #696969;\n",
              "\n",
              "  @media (prefers-color-scheme: dark) {\n",
              "    /* Redefinition of color scheme for dark theme */\n",
              "    --sklearn-color-text-on-default-background: var(--sg-text-color, var(--theme-code-foreground, var(--jp-content-font-color1, white)));\n",
              "    --sklearn-color-background: var(--sg-background-color, var(--theme-background, var(--jp-layout-color0, #111)));\n",
              "    --sklearn-color-border-box: var(--sg-text-color, var(--theme-code-foreground, var(--jp-content-font-color1, white)));\n",
              "    --sklearn-color-icon: #878787;\n",
              "  }\n",
              "}\n",
              "\n",
              "#sk-container-id-1 {\n",
              "  color: var(--sklearn-color-text);\n",
              "}\n",
              "\n",
              "#sk-container-id-1 pre {\n",
              "  padding: 0;\n",
              "}\n",
              "\n",
              "#sk-container-id-1 input.sk-hidden--visually {\n",
              "  border: 0;\n",
              "  clip: rect(1px 1px 1px 1px);\n",
              "  clip: rect(1px, 1px, 1px, 1px);\n",
              "  height: 1px;\n",
              "  margin: -1px;\n",
              "  overflow: hidden;\n",
              "  padding: 0;\n",
              "  position: absolute;\n",
              "  width: 1px;\n",
              "}\n",
              "\n",
              "#sk-container-id-1 div.sk-dashed-wrapped {\n",
              "  border: 1px dashed var(--sklearn-color-line);\n",
              "  margin: 0 0.4em 0.5em 0.4em;\n",
              "  box-sizing: border-box;\n",
              "  padding-bottom: 0.4em;\n",
              "  background-color: var(--sklearn-color-background);\n",
              "}\n",
              "\n",
              "#sk-container-id-1 div.sk-container {\n",
              "  /* jupyter's `normalize.less` sets `[hidden] { display: none; }`\n",
              "     but bootstrap.min.css set `[hidden] { display: none !important; }`\n",
              "     so we also need the `!important` here to be able to override the\n",
              "     default hidden behavior on the sphinx rendered scikit-learn.org.\n",
              "     See: https://github.com/scikit-learn/scikit-learn/issues/21755 */\n",
              "  display: inline-block !important;\n",
              "  position: relative;\n",
              "}\n",
              "\n",
              "#sk-container-id-1 div.sk-text-repr-fallback {\n",
              "  display: none;\n",
              "}\n",
              "\n",
              "div.sk-parallel-item,\n",
              "div.sk-serial,\n",
              "div.sk-item {\n",
              "  /* draw centered vertical line to link estimators */\n",
              "  background-image: linear-gradient(var(--sklearn-color-text-on-default-background), var(--sklearn-color-text-on-default-background));\n",
              "  background-size: 2px 100%;\n",
              "  background-repeat: no-repeat;\n",
              "  background-position: center center;\n",
              "}\n",
              "\n",
              "/* Parallel-specific style estimator block */\n",
              "\n",
              "#sk-container-id-1 div.sk-parallel-item::after {\n",
              "  content: \"\";\n",
              "  width: 100%;\n",
              "  border-bottom: 2px solid var(--sklearn-color-text-on-default-background);\n",
              "  flex-grow: 1;\n",
              "}\n",
              "\n",
              "#sk-container-id-1 div.sk-parallel {\n",
              "  display: flex;\n",
              "  align-items: stretch;\n",
              "  justify-content: center;\n",
              "  background-color: var(--sklearn-color-background);\n",
              "  position: relative;\n",
              "}\n",
              "\n",
              "#sk-container-id-1 div.sk-parallel-item {\n",
              "  display: flex;\n",
              "  flex-direction: column;\n",
              "}\n",
              "\n",
              "#sk-container-id-1 div.sk-parallel-item:first-child::after {\n",
              "  align-self: flex-end;\n",
              "  width: 50%;\n",
              "}\n",
              "\n",
              "#sk-container-id-1 div.sk-parallel-item:last-child::after {\n",
              "  align-self: flex-start;\n",
              "  width: 50%;\n",
              "}\n",
              "\n",
              "#sk-container-id-1 div.sk-parallel-item:only-child::after {\n",
              "  width: 0;\n",
              "}\n",
              "\n",
              "/* Serial-specific style estimator block */\n",
              "\n",
              "#sk-container-id-1 div.sk-serial {\n",
              "  display: flex;\n",
              "  flex-direction: column;\n",
              "  align-items: center;\n",
              "  background-color: var(--sklearn-color-background);\n",
              "  padding-right: 1em;\n",
              "  padding-left: 1em;\n",
              "}\n",
              "\n",
              "\n",
              "/* Toggleable style: style used for estimator/Pipeline/ColumnTransformer box that is\n",
              "clickable and can be expanded/collapsed.\n",
              "- Pipeline and ColumnTransformer use this feature and define the default style\n",
              "- Estimators will overwrite some part of the style using the `sk-estimator` class\n",
              "*/\n",
              "\n",
              "/* Pipeline and ColumnTransformer style (default) */\n",
              "\n",
              "#sk-container-id-1 div.sk-toggleable {\n",
              "  /* Default theme specific background. It is overwritten whether we have a\n",
              "  specific estimator or a Pipeline/ColumnTransformer */\n",
              "  background-color: var(--sklearn-color-background);\n",
              "}\n",
              "\n",
              "/* Toggleable label */\n",
              "#sk-container-id-1 label.sk-toggleable__label {\n",
              "  cursor: pointer;\n",
              "  display: block;\n",
              "  width: 100%;\n",
              "  margin-bottom: 0;\n",
              "  padding: 0.5em;\n",
              "  box-sizing: border-box;\n",
              "  text-align: center;\n",
              "}\n",
              "\n",
              "#sk-container-id-1 label.sk-toggleable__label-arrow:before {\n",
              "  /* Arrow on the left of the label */\n",
              "  content: \"▸\";\n",
              "  float: left;\n",
              "  margin-right: 0.25em;\n",
              "  color: var(--sklearn-color-icon);\n",
              "}\n",
              "\n",
              "#sk-container-id-1 label.sk-toggleable__label-arrow:hover:before {\n",
              "  color: var(--sklearn-color-text);\n",
              "}\n",
              "\n",
              "/* Toggleable content - dropdown */\n",
              "\n",
              "#sk-container-id-1 div.sk-toggleable__content {\n",
              "  max-height: 0;\n",
              "  max-width: 0;\n",
              "  overflow: hidden;\n",
              "  text-align: left;\n",
              "  /* unfitted */\n",
              "  background-color: var(--sklearn-color-unfitted-level-0);\n",
              "}\n",
              "\n",
              "#sk-container-id-1 div.sk-toggleable__content.fitted {\n",
              "  /* fitted */\n",
              "  background-color: var(--sklearn-color-fitted-level-0);\n",
              "}\n",
              "\n",
              "#sk-container-id-1 div.sk-toggleable__content pre {\n",
              "  margin: 0.2em;\n",
              "  border-radius: 0.25em;\n",
              "  color: var(--sklearn-color-text);\n",
              "  /* unfitted */\n",
              "  background-color: var(--sklearn-color-unfitted-level-0);\n",
              "}\n",
              "\n",
              "#sk-container-id-1 div.sk-toggleable__content.fitted pre {\n",
              "  /* unfitted */\n",
              "  background-color: var(--sklearn-color-fitted-level-0);\n",
              "}\n",
              "\n",
              "#sk-container-id-1 input.sk-toggleable__control:checked~div.sk-toggleable__content {\n",
              "  /* Expand drop-down */\n",
              "  max-height: 200px;\n",
              "  max-width: 100%;\n",
              "  overflow: auto;\n",
              "}\n",
              "\n",
              "#sk-container-id-1 input.sk-toggleable__control:checked~label.sk-toggleable__label-arrow:before {\n",
              "  content: \"▾\";\n",
              "}\n",
              "\n",
              "/* Pipeline/ColumnTransformer-specific style */\n",
              "\n",
              "#sk-container-id-1 div.sk-label input.sk-toggleable__control:checked~label.sk-toggleable__label {\n",
              "  color: var(--sklearn-color-text);\n",
              "  background-color: var(--sklearn-color-unfitted-level-2);\n",
              "}\n",
              "\n",
              "#sk-container-id-1 div.sk-label.fitted input.sk-toggleable__control:checked~label.sk-toggleable__label {\n",
              "  background-color: var(--sklearn-color-fitted-level-2);\n",
              "}\n",
              "\n",
              "/* Estimator-specific style */\n",
              "\n",
              "/* Colorize estimator box */\n",
              "#sk-container-id-1 div.sk-estimator input.sk-toggleable__control:checked~label.sk-toggleable__label {\n",
              "  /* unfitted */\n",
              "  background-color: var(--sklearn-color-unfitted-level-2);\n",
              "}\n",
              "\n",
              "#sk-container-id-1 div.sk-estimator.fitted input.sk-toggleable__control:checked~label.sk-toggleable__label {\n",
              "  /* fitted */\n",
              "  background-color: var(--sklearn-color-fitted-level-2);\n",
              "}\n",
              "\n",
              "#sk-container-id-1 div.sk-label label.sk-toggleable__label,\n",
              "#sk-container-id-1 div.sk-label label {\n",
              "  /* The background is the default theme color */\n",
              "  color: var(--sklearn-color-text-on-default-background);\n",
              "}\n",
              "\n",
              "/* On hover, darken the color of the background */\n",
              "#sk-container-id-1 div.sk-label:hover label.sk-toggleable__label {\n",
              "  color: var(--sklearn-color-text);\n",
              "  background-color: var(--sklearn-color-unfitted-level-2);\n",
              "}\n",
              "\n",
              "/* Label box, darken color on hover, fitted */\n",
              "#sk-container-id-1 div.sk-label.fitted:hover label.sk-toggleable__label.fitted {\n",
              "  color: var(--sklearn-color-text);\n",
              "  background-color: var(--sklearn-color-fitted-level-2);\n",
              "}\n",
              "\n",
              "/* Estimator label */\n",
              "\n",
              "#sk-container-id-1 div.sk-label label {\n",
              "  font-family: monospace;\n",
              "  font-weight: bold;\n",
              "  display: inline-block;\n",
              "  line-height: 1.2em;\n",
              "}\n",
              "\n",
              "#sk-container-id-1 div.sk-label-container {\n",
              "  text-align: center;\n",
              "}\n",
              "\n",
              "/* Estimator-specific */\n",
              "#sk-container-id-1 div.sk-estimator {\n",
              "  font-family: monospace;\n",
              "  border: 1px dotted var(--sklearn-color-border-box);\n",
              "  border-radius: 0.25em;\n",
              "  box-sizing: border-box;\n",
              "  margin-bottom: 0.5em;\n",
              "  /* unfitted */\n",
              "  background-color: var(--sklearn-color-unfitted-level-0);\n",
              "}\n",
              "\n",
              "#sk-container-id-1 div.sk-estimator.fitted {\n",
              "  /* fitted */\n",
              "  background-color: var(--sklearn-color-fitted-level-0);\n",
              "}\n",
              "\n",
              "/* on hover */\n",
              "#sk-container-id-1 div.sk-estimator:hover {\n",
              "  /* unfitted */\n",
              "  background-color: var(--sklearn-color-unfitted-level-2);\n",
              "}\n",
              "\n",
              "#sk-container-id-1 div.sk-estimator.fitted:hover {\n",
              "  /* fitted */\n",
              "  background-color: var(--sklearn-color-fitted-level-2);\n",
              "}\n",
              "\n",
              "/* Specification for estimator info (e.g. \"i\" and \"?\") */\n",
              "\n",
              "/* Common style for \"i\" and \"?\" */\n",
              "\n",
              ".sk-estimator-doc-link,\n",
              "a:link.sk-estimator-doc-link,\n",
              "a:visited.sk-estimator-doc-link {\n",
              "  float: right;\n",
              "  font-size: smaller;\n",
              "  line-height: 1em;\n",
              "  font-family: monospace;\n",
              "  background-color: var(--sklearn-color-background);\n",
              "  border-radius: 1em;\n",
              "  height: 1em;\n",
              "  width: 1em;\n",
              "  text-decoration: none !important;\n",
              "  margin-left: 1ex;\n",
              "  /* unfitted */\n",
              "  border: var(--sklearn-color-unfitted-level-1) 1pt solid;\n",
              "  color: var(--sklearn-color-unfitted-level-1);\n",
              "}\n",
              "\n",
              ".sk-estimator-doc-link.fitted,\n",
              "a:link.sk-estimator-doc-link.fitted,\n",
              "a:visited.sk-estimator-doc-link.fitted {\n",
              "  /* fitted */\n",
              "  border: var(--sklearn-color-fitted-level-1) 1pt solid;\n",
              "  color: var(--sklearn-color-fitted-level-1);\n",
              "}\n",
              "\n",
              "/* On hover */\n",
              "div.sk-estimator:hover .sk-estimator-doc-link:hover,\n",
              ".sk-estimator-doc-link:hover,\n",
              "div.sk-label-container:hover .sk-estimator-doc-link:hover,\n",
              ".sk-estimator-doc-link:hover {\n",
              "  /* unfitted */\n",
              "  background-color: var(--sklearn-color-unfitted-level-3);\n",
              "  color: var(--sklearn-color-background);\n",
              "  text-decoration: none;\n",
              "}\n",
              "\n",
              "div.sk-estimator.fitted:hover .sk-estimator-doc-link.fitted:hover,\n",
              ".sk-estimator-doc-link.fitted:hover,\n",
              "div.sk-label-container:hover .sk-estimator-doc-link.fitted:hover,\n",
              ".sk-estimator-doc-link.fitted:hover {\n",
              "  /* fitted */\n",
              "  background-color: var(--sklearn-color-fitted-level-3);\n",
              "  color: var(--sklearn-color-background);\n",
              "  text-decoration: none;\n",
              "}\n",
              "\n",
              "/* Span, style for the box shown on hovering the info icon */\n",
              ".sk-estimator-doc-link span {\n",
              "  display: none;\n",
              "  z-index: 9999;\n",
              "  position: relative;\n",
              "  font-weight: normal;\n",
              "  right: .2ex;\n",
              "  padding: .5ex;\n",
              "  margin: .5ex;\n",
              "  width: min-content;\n",
              "  min-width: 20ex;\n",
              "  max-width: 50ex;\n",
              "  color: var(--sklearn-color-text);\n",
              "  box-shadow: 2pt 2pt 4pt #999;\n",
              "  /* unfitted */\n",
              "  background: var(--sklearn-color-unfitted-level-0);\n",
              "  border: .5pt solid var(--sklearn-color-unfitted-level-3);\n",
              "}\n",
              "\n",
              ".sk-estimator-doc-link.fitted span {\n",
              "  /* fitted */\n",
              "  background: var(--sklearn-color-fitted-level-0);\n",
              "  border: var(--sklearn-color-fitted-level-3);\n",
              "}\n",
              "\n",
              ".sk-estimator-doc-link:hover span {\n",
              "  display: block;\n",
              "}\n",
              "\n",
              "/* \"?\"-specific style due to the `<a>` HTML tag */\n",
              "\n",
              "#sk-container-id-1 a.estimator_doc_link {\n",
              "  float: right;\n",
              "  font-size: 1rem;\n",
              "  line-height: 1em;\n",
              "  font-family: monospace;\n",
              "  background-color: var(--sklearn-color-background);\n",
              "  border-radius: 1rem;\n",
              "  height: 1rem;\n",
              "  width: 1rem;\n",
              "  text-decoration: none;\n",
              "  /* unfitted */\n",
              "  color: var(--sklearn-color-unfitted-level-1);\n",
              "  border: var(--sklearn-color-unfitted-level-1) 1pt solid;\n",
              "}\n",
              "\n",
              "#sk-container-id-1 a.estimator_doc_link.fitted {\n",
              "  /* fitted */\n",
              "  border: var(--sklearn-color-fitted-level-1) 1pt solid;\n",
              "  color: var(--sklearn-color-fitted-level-1);\n",
              "}\n",
              "\n",
              "/* On hover */\n",
              "#sk-container-id-1 a.estimator_doc_link:hover {\n",
              "  /* unfitted */\n",
              "  background-color: var(--sklearn-color-unfitted-level-3);\n",
              "  color: var(--sklearn-color-background);\n",
              "  text-decoration: none;\n",
              "}\n",
              "\n",
              "#sk-container-id-1 a.estimator_doc_link.fitted:hover {\n",
              "  /* fitted */\n",
              "  background-color: var(--sklearn-color-fitted-level-3);\n",
              "}\n",
              "</style><div id=\"sk-container-id-1\" class=\"sk-top-container\"><div class=\"sk-text-repr-fallback\"><pre>RandomForestRegressor(random_state=42)</pre><b>In a Jupyter environment, please rerun this cell to show the HTML representation or trust the notebook. <br />On GitHub, the HTML representation is unable to render, please try loading this page with nbviewer.org.</b></div><div class=\"sk-container\" hidden><div class=\"sk-item\"><div class=\"sk-estimator fitted sk-toggleable\"><input class=\"sk-toggleable__control sk-hidden--visually\" id=\"sk-estimator-id-1\" type=\"checkbox\" checked><label for=\"sk-estimator-id-1\" class=\"sk-toggleable__label fitted sk-toggleable__label-arrow fitted\">&nbsp;&nbsp;RandomForestRegressor<a class=\"sk-estimator-doc-link fitted\" rel=\"noreferrer\" target=\"_blank\" href=\"https://scikit-learn.org/1.5/modules/generated/sklearn.ensemble.RandomForestRegressor.html\">?<span>Documentation for RandomForestRegressor</span></a><span class=\"sk-estimator-doc-link fitted\">i<span>Fitted</span></span></label><div class=\"sk-toggleable__content fitted\"><pre>RandomForestRegressor(random_state=42)</pre></div> </div></div></div></div>"
            ]
          },
          "metadata": {},
          "execution_count": 42
        }
      ]
    },
    {
      "cell_type": "code",
      "source": [
        "# Hacer predicciones\n",
        "y_pred = rf_model.predict(X_test)\n"
      ],
      "metadata": {
        "id": "ANxWkgfRH2m7"
      },
      "execution_count": null,
      "outputs": []
    },
    {
      "cell_type": "markdown",
      "source": [
        "El MSE y R² ayudan a evaluar el rendimiento del modelo."
      ],
      "metadata": {
        "id": "D6pLPDZtJkpb"
      }
    },
    {
      "cell_type": "code",
      "source": [
        "# Calcular métricas de rendimiento\n",
        "mse = mean_squared_error(y_test, y_pred)\n",
        "r2 = r2_score(y_test, y_pred)\n",
        "\n",
        "print(f'Error cuadrático medio: {mse}')\n",
        "print(f'R-cuadrado: {r2}')"
      ],
      "metadata": {
        "colab": {
          "base_uri": "https://localhost:8080/"
        },
        "id": "7VTdKQUtH6Kr",
        "outputId": "8d0d6c55-cb68-49c7-a225-5310f0075285"
      },
      "execution_count": null,
      "outputs": [
        {
          "output_type": "stream",
          "name": "stdout",
          "text": [
            "Error cuadrático medio: 9974277469753.936\n",
            "R-cuadrado: 0.6041141874171588\n"
          ]
        }
      ]
    },
    {
      "cell_type": "markdown",
      "source": [
        "Interpretación:\n",
        "\n",
        "- Error cuadrático medio (MSE): 9974277469753.936\n",
        "\n",
        "El MSE mide el promedio de los errores al cuadrado entre los valores predichos y los valores reales. Un valor más bajo indica mejores predicciones.\n",
        "\n",
        "En este caso, el MSE es bastante alto, pero es **significativamente menor** que el obtenido con el modelo de regresión lineal anterior (19243479524898.84). Esto indica una mejora sustancial en la precisión de las predicciones. Sin embargo, el valor sigue siendo grande debido a la escala de los precios de las casas.\n",
        "\n",
        "- R-cuadrado (R²): 0.6041141874171588\n",
        "\n",
        "El R² indica qué proporción de la varianza en la variable dependiente (precio de venta) es predecible a partir de las variables independientes (características de la casa). Varía de 0 a 1, donde 1 indica una predicción perfecta.\n",
        "\n",
        "Un R² de aproximadamente 0.604 significa que el modelo explica alrededor del 60.4% de la variabilidad en los precios de las casas. Esto es una mejora significativa respecto al modelo de regresión lineal anterior (que tenía un R² de 0.236)."
      ],
      "metadata": {
        "id": "rGYTefPuMPA3"
      }
    },
    {
      "cell_type": "markdown",
      "source": [
        "Interpretación general:\n",
        "\n",
        "1. Mejora significativa: El modelo Random Forest ha mejorado considerablemente respecto al modelo de regresión lineal anterior, tanto en términos de MSE como de R².\n",
        "2. Poder predictivo moderado: El modelo puede explicar aproximadamente el 60% de la variabilidad en los precios de las casas, lo cual es bastante bueno para datos inmobiliarios que suelen ser complejos.\n",
        "3. Margen de mejora: Aunque el modelo es mucho mejor, todavía hay un 40% de la variabilidad que no se explica, lo que sugiere que podrían existir otros factores importantes que no se están considerando o que la relación entre las variables podría ser aún más compleja.\n",
        "4. Utilidad práctica: Con un R² de 0.604, el modelo puede ser útil para obtener estimaciones aproximadas de los precios de las casas, aunque no será perfecto en sus predicciones.\n",
        "5. Complejidad del mercado inmobiliario: Los resultados reflejan la complejidad inherente al mercado inmobiliario, donde muchos factores, algunos difíciles de cuantificar, pueden influir en los precios.\n",
        "\n",
        "En resumen, el modelo Random Forest ha proporcionado una mejora sustancial en la capacidad predictiva comparado con el modelo de regresión lineal anterior. Sin embargo, aún hay margen para mejorar, posiblemente mediante la inclusión de más variables relevantes, el ajuste de hiperparámetros del modelo, o la consideración de otros algoritmos de aprendizaje automático."
      ],
      "metadata": {
        "id": "o3Gn8WxHMgEq"
      }
    },
    {
      "cell_type": "code",
      "source": [
        "# Visualizar la importancia de las características\n",
        "feature_importance = pd.DataFrame({'feature': X.columns, 'importance': rf_model.feature_importances_})\n",
        "feature_importance = feature_importance.sort_values('importance', ascending=False)\n",
        "\n",
        "plt.figure(figsize=(10, 6))\n",
        "plt.bar(feature_importance['feature'], feature_importance['importance'])\n",
        "plt.title('Importancia de las características')\n",
        "plt.xlabel('Características')\n",
        "plt.ylabel('Importancia')\n",
        "plt.xticks(rotation=90)\n",
        "plt.tight_layout()\n",
        "plt.show()"
      ],
      "metadata": {
        "colab": {
          "base_uri": "https://localhost:8080/",
          "height": 595
        },
        "id": "0XJt8LNOIHPr",
        "outputId": "2e7fb81d-1d49-47d7-a73e-0caed90863b0"
      },
      "execution_count": null,
      "outputs": [
        {
          "output_type": "display_data",
          "data": {
            "text/plain": [
              "<Figure size 1000x600 with 1 Axes>"
            ],
            "image/png": "[encoded data removed]"
          },
          "metadata": {}
        }
      ]
    }
  ]
}